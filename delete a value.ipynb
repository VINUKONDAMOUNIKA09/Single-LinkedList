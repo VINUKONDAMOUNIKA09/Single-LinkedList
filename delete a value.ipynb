{
 "cells": [
  {
   "cell_type": "code",
   "execution_count": 3,
   "id": "015fbf4c-24c4-4022-b8c9-5b881a732d50",
   "metadata": {},
   "outputs": [
    {
     "name": "stdout",
     "output_type": "stream",
     "text": [
      "\n",
      " LinkedList- Insert At Begin....\n",
      "1. Insert\n",
      "2. Display\n",
      "3. delete by value\n",
      "4.exit\n"
     ]
    },
    {
     "name": "stdin",
     "output_type": "stream",
     "text": [
      "Enter your choice: 1\n",
      "enter a value to insert: 28\n"
     ]
    },
    {
     "name": "stdout",
     "output_type": "stream",
     "text": [
      "\n",
      " LinkedList- Insert At Begin....\n",
      "1. Insert\n",
      "2. Display\n",
      "3. delete by value\n",
      "4.exit\n"
     ]
    },
    {
     "name": "stdin",
     "output_type": "stream",
     "text": [
      "Enter your choice: 1\n",
      "enter a value to insert: 9\n"
     ]
    },
    {
     "name": "stdout",
     "output_type": "stream",
     "text": [
      "\n",
      " LinkedList- Insert At Begin....\n",
      "1. Insert\n",
      "2. Display\n",
      "3. delete by value\n",
      "4.exit\n"
     ]
    },
    {
     "name": "stdin",
     "output_type": "stream",
     "text": [
      "Enter your choice: 1\n",
      "enter a value to insert: 43\n"
     ]
    },
    {
     "name": "stdout",
     "output_type": "stream",
     "text": [
      "\n",
      " LinkedList- Insert At Begin....\n",
      "1. Insert\n",
      "2. Display\n",
      "3. delete by value\n",
      "4.exit\n"
     ]
    },
    {
     "name": "stdin",
     "output_type": "stream",
     "text": [
      "Enter your choice: 1\n",
      "enter a value to insert: 56\n"
     ]
    },
    {
     "name": "stdout",
     "output_type": "stream",
     "text": [
      "\n",
      " LinkedList- Insert At Begin....\n",
      "1. Insert\n",
      "2. Display\n",
      "3. delete by value\n",
      "4.exit\n"
     ]
    },
    {
     "name": "stdin",
     "output_type": "stream",
     "text": [
      "Enter your choice: 2\n"
     ]
    },
    {
     "name": "stdout",
     "output_type": "stream",
     "text": [
      "28---9---43---56---None\n",
      "\n",
      " LinkedList- Insert At Begin....\n",
      "1. Insert\n",
      "2. Display\n",
      "3. delete by value\n",
      "4.exit\n"
     ]
    },
    {
     "name": "stdin",
     "output_type": "stream",
     "text": [
      "Enter your choice: 3\n",
      "enter the value ,you want to delete: 56\n"
     ]
    },
    {
     "name": "stdout",
     "output_type": "stream",
     "text": [
      "56 deleted from the ll\n",
      "\n",
      " LinkedList- Insert At Begin....\n",
      "1. Insert\n",
      "2. Display\n",
      "3. delete by value\n",
      "4.exit\n"
     ]
    },
    {
     "name": "stdin",
     "output_type": "stream",
     "text": [
      "Enter your choice: 4\n"
     ]
    },
    {
     "name": "stdout",
     "output_type": "stream",
     "text": [
      "Exit the operation...\n"
     ]
    }
   ],
   "source": [
    "### DELETING OPERATIONS\n",
    "#1.at end\n",
    "#2.at beginning\n",
    "#3.at value\n",
    "\n",
    "'''delete operation by value'''\n",
    "\n",
    "class Node:\n",
    "    def __init__(self,data):\n",
    "        self.data=data\n",
    "        self.next=None\n",
    "class LinkedList:\n",
    "    def __init__(self):\n",
    "        self.head=None\n",
    "    def iae(self,data):\n",
    "        newnode=Node(data)\n",
    "        if not self.head:\n",
    "            self.head=newnode\n",
    "            return\n",
    "        current=self.head\n",
    "        while current.next:\n",
    "            current=current.next\n",
    "        current.next=newnode    \n",
    "    def deletevalue(self,key):\n",
    "        current=self.head\n",
    "        if not current:\n",
    "            print(\"empty ll\")\n",
    "            return\n",
    "        if current.data==key:\n",
    "            self.head=current.next\n",
    "            print(f\"{key} delete from the list\")\n",
    "            return\n",
    "        prev=None\n",
    "        while current and current.data!=key:\n",
    "            prev=current\n",
    "            current=current.next\n",
    "        if not current:\n",
    "            print(f\"{key} not found in ll\")\n",
    "            return\n",
    "        prev.next=current.next\n",
    "        print(f\"{key} deleted from the ll\")\n",
    "    def display(self):\n",
    "        current = self.head\n",
    "        if not current:\n",
    "            print(\"LL-Empty\")\n",
    "            return\n",
    "        while current:\n",
    "            print(current.data, end='---')\n",
    "            current=current.next\n",
    "        print(\"None\")\n",
    "\n",
    "ll=LinkedList()\n",
    "while True:\n",
    "    print(\"\\n LinkedList- Insert At Begin....\")\n",
    "    print(\"1. Insert\")\n",
    "    print(\"2. Display\")\n",
    "    print(\"3. delete by value\")\n",
    "    print(\"4.exit\")\n",
    "    choice=input(\"Enter your choice:\")\n",
    "    if choice=='1':\n",
    "        data=int(input(\"enter a value to insert:\"))\n",
    "        ll.iae(data)\n",
    "    elif choice=='2':\n",
    "        ll.display()\n",
    "    elif choice=='3':\n",
    "        key=int(input(\"enter the value ,you want to delete:\"))\n",
    "        ll.deletevalue(key)\n",
    "    elif choice=='4':\n",
    "        print(\"Exit the operation...\")\n",
    "        break\n",
    "    else:\n",
    "        print(\"Enter only ... 1/2/3/4\")"
   ]
  },
  {
   "cell_type": "code",
   "execution_count": null,
   "id": "91044584-a948-49d0-b054-c1b2d553d61e",
   "metadata": {},
   "outputs": [],
   "source": []
  }
 ],
 "metadata": {
  "kernelspec": {
   "display_name": "Python 3 (ipykernel)",
   "language": "python",
   "name": "python3"
  },
  "language_info": {
   "codemirror_mode": {
    "name": "ipython",
    "version": 3
   },
   "file_extension": ".py",
   "mimetype": "text/x-python",
   "name": "python",
   "nbconvert_exporter": "python",
   "pygments_lexer": "ipython3",
   "version": "3.12.7"
  }
 },
 "nbformat": 4,
 "nbformat_minor": 5
}
