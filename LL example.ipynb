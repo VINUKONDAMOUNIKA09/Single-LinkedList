{
 "cells": [
  {
   "cell_type": "code",
   "execution_count": 1,
   "id": "de587a98-5bac-4372-8ac5-701d03605ef1",
   "metadata": {},
   "outputs": [
    {
     "name": "stdout",
     "output_type": "stream",
     "text": [
      "55-44-33-22-11-null\n"
     ]
    }
   ],
   "source": [
    "#consider a single linked list with insert at end nodes after insertion reverse the nodes  to print \n",
    "#the input must be 11-22-33-44-55-null     and ouput must be  55-44-33-22-11-null\n",
    "class Node:\n",
    "    def __init__(self, data):\n",
    "        self.data = data\n",
    "        self.next = None\n",
    "class SinglyLinkedList:\n",
    "    def __init__(self):\n",
    "        self.head = None\n",
    "    def insert_end(self, data):\n",
    "        new_node = Node(data)\n",
    "        if not self.head:\n",
    "            self.head = new_node\n",
    "            return\n",
    "        temp = self.head\n",
    "        while temp.next:\n",
    "            temp = temp.next\n",
    "        temp.next = new_node \n",
    "    def reverse(self):\n",
    "        prev = None\n",
    "        current = self.head\n",
    "        while current:\n",
    "            next_node = current.next\n",
    "            current.next = prev\n",
    "            prev = current\n",
    "            current = next_node\n",
    "        self.head = prev \n",
    "    def print_formatted(self):\n",
    "        temp = self.head\n",
    "        while temp:\n",
    "            print(temp.data, end=\"-\")\n",
    "            temp = temp.next\n",
    "        print(\"null\")\n",
    "input_str = \"11-22-33-44-55-null\"\n",
    "values = input_str.strip().split('-')\n",
    "values = [val for val in values if val.lower() != 'null'] \n",
    "ll = SinglyLinkedList()\n",
    "for val in values:\n",
    "    ll.insert_end(int(val))\n",
    "ll.reverse()\n",
    "ll.print_formatted()\n"
   ]
  },
  {
   "cell_type": "code",
   "execution_count": null,
   "id": "b2501488-8a43-4108-806e-b85fc4e469d5",
   "metadata": {},
   "outputs": [],
   "source": []
  }
 ],
 "metadata": {
  "kernelspec": {
   "display_name": "Python 3 (ipykernel)",
   "language": "python",
   "name": "python3"
  },
  "language_info": {
   "codemirror_mode": {
    "name": "ipython",
    "version": 3
   },
   "file_extension": ".py",
   "mimetype": "text/x-python",
   "name": "python",
   "nbconvert_exporter": "python",
   "pygments_lexer": "ipython3",
   "version": "3.12.7"
  }
 },
 "nbformat": 4,
 "nbformat_minor": 5
}
