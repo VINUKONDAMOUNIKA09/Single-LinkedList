{
 "cells": [
  {
   "cell_type": "code",
   "execution_count": 1,
   "id": "0b560183-21ec-4c78-9b30-0f3bf18aff49",
   "metadata": {},
   "outputs": [
    {
     "name": "stdout",
     "output_type": "stream",
     "text": [
      "Middle element: 3\n"
     ]
    }
   ],
   "source": [
    "# Node class\n",
    "class Node:\n",
    "    def __init__(self, data):\n",
    "        self.data = data\n",
    "        self.next = None\n",
    "\n",
    "# Singly linked list class\n",
    "class LinkedList:\n",
    "    def __init__(self):\n",
    "        self.head = None\n",
    "\n",
    "    def push(self, new_data):\n",
    "        \"\"\"Insert a new node at the beginning.\"\"\"\n",
    "        new_node = Node(new_data)\n",
    "        new_node.next = self.head\n",
    "        self.head = new_node\n",
    "\n",
    "    def find_middle(self):\n",
    "        \"\"\"Return the middle node's data.\"\"\"\n",
    "        slow = self.head\n",
    "        fast = self.head\n",
    "\n",
    "        # Move fast by 2 and slow by 1 step\n",
    "        while fast and fast.next:\n",
    "            slow = slow.next\n",
    "            fast = fast.next.next\n",
    "\n",
    "        # When fast reaches the end, slow is at the middle\n",
    "        return slow.data if slow else None\n",
    "\n",
    "# Example usage\n",
    "if __name__ == \"__main__\":\n",
    "    ll = LinkedList()\n",
    "    for i in range(1, 6):  # builds 5->4->3->2->1\n",
    "        ll.push(i)\n",
    "    print(\"Middle element:\", ll.find_middle())\n"
   ]
  },
  {
   "cell_type": "code",
   "execution_count": null,
   "id": "c6786b7d-2936-47da-b986-ce8b4534b9ae",
   "metadata": {},
   "outputs": [],
   "source": []
  }
 ],
 "metadata": {
  "kernelspec": {
   "display_name": "Python [conda env:base] *",
   "language": "python",
   "name": "conda-base-py"
  },
  "language_info": {
   "codemirror_mode": {
    "name": "ipython",
    "version": 3
   },
   "file_extension": ".py",
   "mimetype": "text/x-python",
   "name": "python",
   "nbconvert_exporter": "python",
   "pygments_lexer": "ipython3",
   "version": "3.12.7"
  }
 },
 "nbformat": 4,
 "nbformat_minor": 5
}
