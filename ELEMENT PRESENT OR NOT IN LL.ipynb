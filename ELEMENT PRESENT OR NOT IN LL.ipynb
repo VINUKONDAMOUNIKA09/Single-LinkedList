{
 "cells": [
  {
   "cell_type": "code",
   "execution_count": 3,
   "id": "4bc8a119-15e5-43cd-82ce-22e0daa54491",
   "metadata": {},
   "outputs": [
    {
     "name": "stdout",
     "output_type": "stream",
     "text": [
      "\n",
      " LinkedList- Insert At Begin....\n",
      "1. Insert\n",
      "2. Display\n",
      "3.search\n",
      "4. Exit\n"
     ]
    },
    {
     "name": "stdin",
     "output_type": "stream",
     "text": [
      "Enter your choice: 1\n",
      "enter a value to insert: 28\n"
     ]
    },
    {
     "name": "stdout",
     "output_type": "stream",
     "text": [
      "\n",
      " LinkedList- Insert At Begin....\n",
      "1. Insert\n",
      "2. Display\n",
      "3.search\n",
      "4. Exit\n"
     ]
    },
    {
     "name": "stdin",
     "output_type": "stream",
     "text": [
      "Enter your choice: 1\n",
      "enter a value to insert: 9\n"
     ]
    },
    {
     "name": "stdout",
     "output_type": "stream",
     "text": [
      "\n",
      " LinkedList- Insert At Begin....\n",
      "1. Insert\n",
      "2. Display\n",
      "3.search\n",
      "4. Exit\n"
     ]
    },
    {
     "name": "stdin",
     "output_type": "stream",
     "text": [
      "Enter your choice: 23\n"
     ]
    },
    {
     "name": "stdout",
     "output_type": "stream",
     "text": [
      "Enter only ... 1/2/3/4\n",
      "\n",
      " LinkedList- Insert At Begin....\n",
      "1. Insert\n",
      "2. Display\n",
      "3.search\n",
      "4. Exit\n"
     ]
    },
    {
     "name": "stdin",
     "output_type": "stream",
     "text": [
      "Enter your choice: 1\n",
      "enter a value to insert: 45\n"
     ]
    },
    {
     "name": "stdout",
     "output_type": "stream",
     "text": [
      "\n",
      " LinkedList- Insert At Begin....\n",
      "1. Insert\n",
      "2. Display\n",
      "3.search\n",
      "4. Exit\n"
     ]
    },
    {
     "name": "stdin",
     "output_type": "stream",
     "text": [
      "Enter your choice: 2\n"
     ]
    },
    {
     "name": "stdout",
     "output_type": "stream",
     "text": [
      "28---9---45---None\n",
      "\n",
      " LinkedList- Insert At Begin....\n",
      "1. Insert\n",
      "2. Display\n",
      "3.search\n",
      "4. Exit\n"
     ]
    },
    {
     "name": "stdin",
     "output_type": "stream",
     "text": [
      "Enter your choice: 3\n",
      "enter the value ,you want to search: 28\n"
     ]
    },
    {
     "name": "stdout",
     "output_type": "stream",
     "text": [
      "28 found in a LL\n",
      "\n",
      " LinkedList- Insert At Begin....\n",
      "1. Insert\n",
      "2. Display\n",
      "3.search\n",
      "4. Exit\n"
     ]
    },
    {
     "name": "stdin",
     "output_type": "stream",
     "text": [
      "Enter your choice: 4\n"
     ]
    },
    {
     "name": "stdout",
     "output_type": "stream",
     "text": [
      "Exit the operation...\n"
     ]
    }
   ],
   "source": [
    "class Node:\n",
    "    def __init__(self,data):\n",
    "        self.data=data\n",
    "        self.next=None\n",
    "class LinkedList:\n",
    "    def __init__(self):\n",
    "        self.head=None\n",
    "    def iae(self,data):\n",
    "        newnode=Node(data)\n",
    "        if not self.head:\n",
    "            self.head=newnode\n",
    "            return\n",
    "        current=self.head\n",
    "        while current.next:\n",
    "            current=current.next\n",
    "        current.next=newnode\n",
    "    def search(self,key):\n",
    "        pos=1\n",
    "        current=self.head\n",
    "        while current:\n",
    "            if current.data==key:\n",
    "                print(f\"{key} found in a LL\")\n",
    "                return True\n",
    "            current=current.next\n",
    "            pos+=1\n",
    "            print(f\"{key} not  found in a LL\")\n",
    "            \n",
    "    def display(self):\n",
    "        current = self.head\n",
    "        if not current:\n",
    "            print(\"LL-Empty\")\n",
    "            return\n",
    "        while current:\n",
    "            print(current.data, end='---')\n",
    "            current=current.next\n",
    "        print(\"None\")\n",
    "\n",
    "ll=LinkedList()\n",
    "while True:\n",
    "    print(\"\\n LinkedList- Insert At Begin....\")\n",
    "    print(\"1. Insert\")\n",
    "    print(\"2. Display\")\n",
    "    print(\"3.search\")\n",
    "    print(\"4. Exit\")\n",
    "    choice=input(\"Enter your choice:\")\n",
    "    if choice=='1':\n",
    "        data=int(input(\"enter a value to insert:\"))\n",
    "        ll.iae(data)\n",
    "    elif choice=='2':\n",
    "        ll.display()\n",
    "    elif choice=='3':\n",
    "        val=int(input(\"enter the value ,you want to search:\"))\n",
    "        ll.search(val)\n",
    "    elif choice=='4':\n",
    "        print(\"Exit the operation...\")\n",
    "        break\n",
    "    else:\n",
    "        print(\"Enter only ... 1/2/3/4\")"
   ]
  },
  {
   "cell_type": "code",
   "execution_count": null,
   "id": "26493870-0cf8-4d4d-9897-d8aa010a7cd6",
   "metadata": {},
   "outputs": [],
   "source": []
  }
 ],
 "metadata": {
  "kernelspec": {
   "display_name": "Python [conda env:base] *",
   "language": "python",
   "name": "conda-base-py"
  },
  "language_info": {
   "codemirror_mode": {
    "name": "ipython",
    "version": 3
   },
   "file_extension": ".py",
   "mimetype": "text/x-python",
   "name": "python",
   "nbconvert_exporter": "python",
   "pygments_lexer": "ipython3",
   "version": "3.12.7"
  }
 },
 "nbformat": 4,
 "nbformat_minor": 5
}
