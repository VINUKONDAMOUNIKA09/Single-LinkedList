{
 "cells": [
  {
   "cell_type": "code",
   "execution_count": 1,
   "id": "932214e8-602e-4e50-afa3-c7041ec44f83",
   "metadata": {},
   "outputs": [
    {
     "name": "stdout",
     "output_type": "stream",
     "text": [
      "\n",
      " LinkedList- Insert At Begin....\n",
      "1. Insert\n",
      "2. Display\n",
      "3. Exit\n"
     ]
    },
    {
     "name": "stdin",
     "output_type": "stream",
     "text": [
      "Enter your choice: 1\n",
      "enter a value to insert: 23\n",
      "enter position starting from 1 1\n"
     ]
    },
    {
     "name": "stdout",
     "output_type": "stream",
     "text": [
      "23 inserted at pos-1\n",
      "\n",
      " LinkedList- Insert At Begin....\n",
      "1. Insert\n",
      "2. Display\n",
      "3. Exit\n"
     ]
    },
    {
     "name": "stdin",
     "output_type": "stream",
     "text": [
      "Enter your choice: 1\n",
      "enter a value to insert: 56\n",
      "enter position starting from 1 2\n"
     ]
    },
    {
     "name": "stdout",
     "output_type": "stream",
     "text": [
      "56 inserted at position2. \n",
      "\n",
      " LinkedList- Insert At Begin....\n",
      "1. Insert\n",
      "2. Display\n",
      "3. Exit\n"
     ]
    },
    {
     "name": "stdin",
     "output_type": "stream",
     "text": [
      "Enter your choice: 1\n",
      "enter a value to insert: 87\n",
      "enter position starting from 1 3\n"
     ]
    },
    {
     "name": "stdout",
     "output_type": "stream",
     "text": [
      "87 inserted at position3. \n",
      "\n",
      " LinkedList- Insert At Begin....\n",
      "1. Insert\n",
      "2. Display\n",
      "3. Exit\n"
     ]
    },
    {
     "name": "stdin",
     "output_type": "stream",
     "text": [
      "Enter your choice: 1\n",
      "enter a value to insert: 67\n",
      "enter position starting from 1 4\n"
     ]
    },
    {
     "name": "stdout",
     "output_type": "stream",
     "text": [
      "67 inserted at position4. \n",
      "\n",
      " LinkedList- Insert At Begin....\n",
      "1. Insert\n",
      "2. Display\n",
      "3. Exit\n"
     ]
    },
    {
     "name": "stdin",
     "output_type": "stream",
     "text": [
      "Enter your choice: 2\n"
     ]
    },
    {
     "name": "stdout",
     "output_type": "stream",
     "text": [
      "23---56---87---67---None\n",
      "\n",
      " LinkedList- Insert At Begin....\n",
      "1. Insert\n",
      "2. Display\n",
      "3. Exit\n"
     ]
    },
    {
     "name": "stdin",
     "output_type": "stream",
     "text": [
      "Enter your choice: 1\n",
      "enter a value to insert: 87\n",
      "enter position starting from 1 4\n"
     ]
    },
    {
     "name": "stdout",
     "output_type": "stream",
     "text": [
      "87 inserted at position4. \n",
      "\n",
      " LinkedList- Insert At Begin....\n",
      "1. Insert\n",
      "2. Display\n",
      "3. Exit\n"
     ]
    },
    {
     "name": "stdin",
     "output_type": "stream",
     "text": [
      "Enter your choice: 2\n"
     ]
    },
    {
     "name": "stdout",
     "output_type": "stream",
     "text": [
      "23---56---87---87---67---None\n",
      "\n",
      " LinkedList- Insert At Begin....\n",
      "1. Insert\n",
      "2. Display\n",
      "3. Exit\n"
     ]
    },
    {
     "name": "stdin",
     "output_type": "stream",
     "text": [
      "Enter your choice: 3\n"
     ]
    },
    {
     "name": "stdout",
     "output_type": "stream",
     "text": [
      "Exit the operation...\n"
     ]
    }
   ],
   "source": [
    "class Node:\n",
    "    def __init__(self,data):\n",
    "        self.data=data\n",
    "        self.next=None\n",
    "class LinkedList:\n",
    "    def __init__(self):\n",
    "        self.head=None\n",
    "    def iap(self,data,pos):\n",
    "        newnode=Node(data)\n",
    "        if pos<=0:\n",
    "            print(\"position min>=1\")\n",
    "            return\n",
    "        if pos==1: #begin start\n",
    "            newnode.next=self.head\n",
    "            self.head=newnode\n",
    "            print(f\"{data} inserted at pos-1\")\n",
    "            return\n",
    "        current=self.head  \n",
    "        c=1\n",
    "        while current and c < pos-1:\n",
    "            current=current.next\n",
    "            c+=1\n",
    "        if not current:\n",
    "            print(\"not in range...\")\n",
    "            return\n",
    "        newnode.next=current.next\n",
    "        current.next=newnode\n",
    "        print(f\"{data} inserted at position{pos}. \")\n",
    "    def display(self):\n",
    "        current = self.head\n",
    "        if not current:\n",
    "            print(\"LL-Empty\")\n",
    "            return\n",
    "        while current:\n",
    "            print(current.data, end='---')\n",
    "            current=current.next\n",
    "        print(\"None\")\n",
    "\n",
    "ll=LinkedList()\n",
    "while True:\n",
    "    print(\"\\n LinkedList- Insert At Begin....\")\n",
    "    print(\"1. Insert\")\n",
    "    print(\"2. Display\")\n",
    "    print(\"3. Exit\")\n",
    "    choice=input(\"Enter your choice:\")\n",
    "    if choice=='1':\n",
    "        data=int(input(\"enter a value to insert:\"))\n",
    "        pos=int(input(\"enter position starting from 1\"))\n",
    "        ll.iap(data,pos)\n",
    "    elif choice=='2':\n",
    "        ll.display()\n",
    "    elif choice=='3':\n",
    "        print(\"Exit the operation...\")\n",
    "        break\n",
    "    else:\n",
    "        print(\"Enter only ... 1/2/3\")\n",
    "\n"
   ]
  },
  {
   "cell_type": "code",
   "execution_count": null,
   "id": "7b178bd5-a456-4b6c-93ee-85ef4f9ed6d0",
   "metadata": {},
   "outputs": [],
   "source": []
  }
 ],
 "metadata": {
  "kernelspec": {
   "display_name": "Python [conda env:base] *",
   "language": "python",
   "name": "conda-base-py"
  },
  "language_info": {
   "codemirror_mode": {
    "name": "ipython",
    "version": 3
   },
   "file_extension": ".py",
   "mimetype": "text/x-python",
   "name": "python",
   "nbconvert_exporter": "python",
   "pygments_lexer": "ipython3",
   "version": "3.12.7"
  }
 },
 "nbformat": 4,
 "nbformat_minor": 5
}
