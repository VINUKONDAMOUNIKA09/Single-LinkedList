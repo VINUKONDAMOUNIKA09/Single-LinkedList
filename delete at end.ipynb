{
 "cells": [
  {
   "cell_type": "code",
   "execution_count": 2,
   "id": "dc314373-7404-49e7-b56f-3c13818e6ece",
   "metadata": {},
   "outputs": [
    {
     "name": "stdout",
     "output_type": "stream",
     "text": [
      "\n",
      "--- LinkedList Operations ---\n",
      "1. Insert at End\n",
      "2. Display\n",
      "3. Delete at End\n",
      "4. Exit\n"
     ]
    },
    {
     "name": "stdin",
     "output_type": "stream",
     "text": [
      "Enter your choice:  1\n",
      "Enter a value to insert:  23\n"
     ]
    },
    {
     "name": "stdout",
     "output_type": "stream",
     "text": [
      "\n",
      "--- LinkedList Operations ---\n",
      "1. Insert at End\n",
      "2. Display\n",
      "3. Delete at End\n",
      "4. Exit\n"
     ]
    },
    {
     "name": "stdin",
     "output_type": "stream",
     "text": [
      "Enter your choice:  1\n",
      "Enter a value to insert:  65\n"
     ]
    },
    {
     "name": "stdout",
     "output_type": "stream",
     "text": [
      "\n",
      "--- LinkedList Operations ---\n",
      "1. Insert at End\n",
      "2. Display\n",
      "3. Delete at End\n",
      "4. Exit\n"
     ]
    },
    {
     "name": "stdin",
     "output_type": "stream",
     "text": [
      "Enter your choice:  1\n",
      "Enter a value to insert:  89\n"
     ]
    },
    {
     "name": "stdout",
     "output_type": "stream",
     "text": [
      "\n",
      "--- LinkedList Operations ---\n",
      "1. Insert at End\n",
      "2. Display\n",
      "3. Delete at End\n",
      "4. Exit\n"
     ]
    },
    {
     "name": "stdin",
     "output_type": "stream",
     "text": [
      "Enter your choice:  2\n"
     ]
    },
    {
     "name": "stdout",
     "output_type": "stream",
     "text": [
      "23 ---> 65 ---> 89 ---> None\n",
      "\n",
      "--- LinkedList Operations ---\n",
      "1. Insert at End\n",
      "2. Display\n",
      "3. Delete at End\n",
      "4. Exit\n"
     ]
    },
    {
     "name": "stdin",
     "output_type": "stream",
     "text": [
      "Enter your choice:  3\n"
     ]
    },
    {
     "name": "stdout",
     "output_type": "stream",
     "text": [
      "Deleted node from end: 89\n",
      "\n",
      "--- LinkedList Operations ---\n",
      "1. Insert at End\n",
      "2. Display\n",
      "3. Delete at End\n",
      "4. Exit\n"
     ]
    },
    {
     "name": "stdin",
     "output_type": "stream",
     "text": [
      "Enter your choice:  2\n"
     ]
    },
    {
     "name": "stdout",
     "output_type": "stream",
     "text": [
      "23 ---> 65 ---> None\n",
      "\n",
      "--- LinkedList Operations ---\n",
      "1. Insert at End\n",
      "2. Display\n",
      "3. Delete at End\n",
      "4. Exit\n"
     ]
    },
    {
     "name": "stdin",
     "output_type": "stream",
     "text": [
      "Enter your choice:  4\n"
     ]
    },
    {
     "name": "stdout",
     "output_type": "stream",
     "text": [
      "Exiting the operation...\n"
     ]
    }
   ],
   "source": [
    "#delete at end\n",
    "class Node:\n",
    "    def __init__(self, data):\n",
    "        self.data = data\n",
    "        self.next = None\n",
    "\n",
    "class LinkedList:\n",
    "    def __init__(self):\n",
    "        self.head = None\n",
    "\n",
    "    def iae(self, data):  \n",
    "        newnode = Node(data)\n",
    "        if not self.head:\n",
    "            self.head = newnode\n",
    "            return\n",
    "        current = self.head\n",
    "        while current.next:\n",
    "            current = current.next\n",
    "        current.next = newnode    \n",
    "\n",
    "    def deleteend(self):  \n",
    "        if self.head is None:\n",
    "            print(\"Linked List is empty\")\n",
    "      \n",
    "        else:\n",
    "            current = self.head\n",
    "            while current.next.next:\n",
    "                current = current.next\n",
    "            print(\"Deleted node from end:\", current.next.data)\n",
    "            current.next = None\n",
    "\n",
    "    def display(self):\n",
    "        current = self.head\n",
    "        if not current:\n",
    "            print(\"Linked List is empty\")\n",
    "            return\n",
    "        while current:\n",
    "            print(current.data, end=' ---> ')\n",
    "            current = current.next\n",
    "        print(\"None\")\n",
    "\n",
    "\n",
    "ll = LinkedList()\n",
    "while True:\n",
    "    print(\"\\n--- LinkedList Operations ---\")\n",
    "    print(\"1. Insert at End\")\n",
    "    print(\"2. Display\")\n",
    "    print(\"3. Delete at End\")\n",
    "    print(\"4. Exit\")\n",
    "    \n",
    "    choice = input(\"Enter your choice: \")\n",
    "\n",
    "    if choice == '1':\n",
    "        data = int(input(\"Enter a value to insert: \"))\n",
    "        ll.iae(data)\n",
    "\n",
    "    if choice == '2':\n",
    "        ll.display()\n",
    "\n",
    "    if choice == '3':\n",
    "        ll.deleteend()\n",
    "\n",
    "    if choice == '4':\n",
    "        print(\"Exiting the operation...\")\n",
    "        break"
   ]
  },
  {
   "cell_type": "code",
   "execution_count": null,
   "id": "be00c227-c755-48a6-837d-b366805dadaa",
   "metadata": {},
   "outputs": [],
   "source": []
  }
 ],
 "metadata": {
  "kernelspec": {
   "display_name": "Python 3 (ipykernel)",
   "language": "python",
   "name": "python3"
  },
  "language_info": {
   "codemirror_mode": {
    "name": "ipython",
    "version": 3
   },
   "file_extension": ".py",
   "mimetype": "text/x-python",
   "name": "python",
   "nbconvert_exporter": "python",
   "pygments_lexer": "ipython3",
   "version": "3.12.7"
  }
 },
 "nbformat": 4,
 "nbformat_minor": 5
}
